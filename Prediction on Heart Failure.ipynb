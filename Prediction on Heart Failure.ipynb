{
 "cells": [
  {
   "cell_type": "markdown",
   "metadata": {},
   "source": [
    "# Prediction on heart failure\n",
    "Cardiovascular disease is the Top 1 killer in this world. However, early predictions can be made based on individual's living behaviour, diet and some body indexes. In this project, we will build a model to predict  heart failure.\n",
    "\n",
    "  **Dataset was obtained from a clinical record dataset on Kaggle.**\n",
    "  \n",
    "  https://www.kaggle.com/andrewmvd/heart-failure-clinical-data\n",
    "  \n",
    "  The dataset consists of **12 clinical features** for predicting **the mortality of patients.**"
   ]
  },
  {
   "cell_type": "markdown",
   "metadata": {},
   "source": [
    "### Import libraries"
   ]
  },
  {
   "cell_type": "code",
   "execution_count": 2,
   "metadata": {},
   "outputs": [],
   "source": [
    "import pandas as pd\n",
    "import numpy as np\n",
    "import seaborn as sn\n",
    "import matplotlib.pyplot as plt\n",
    "from sklearn.metrics import accuracy_score\n",
    "from sklearn.metrics import plot_confusion_matrix\n",
    "from sklearn.metrics import f1_score\n",
    "from sklearn.model_selection import train_test_split\n",
    "from sklearn.preprocessing import MinMaxScaler\n",
    "from sklearn.ensemble import RandomForestClassifier\n",
    "from catboost import CatBoostClassifier\n",
    "from keras.layers import Dense, Dropout\n",
    "from keras.models import Sequential\n",
    "from keras.utils import to_categorical\n",
    "import keras.optimizers"
   ]
  },
  {
   "cell_type": "markdown",
   "metadata": {},
   "source": [
    "### Extract Transform Load\n",
    "Load data into a dataframe. \n",
    "Check on size of dataset and types of each feature."
   ]
  },
  {
   "cell_type": "code",
   "execution_count": 3,
   "metadata": {},
   "outputs": [],
   "source": [
    "df = pd.read_csv('C:/Users/Chan/Desktop/heart_failure_clinical_records_dataset.csv')"
   ]
  },
  {
   "cell_type": "code",
   "execution_count": 4,
   "metadata": {},
   "outputs": [
    {
     "name": "stdout",
     "output_type": "stream",
     "text": [
      "<class 'pandas.core.frame.DataFrame'>\n",
      "RangeIndex: 299 entries, 0 to 298\n",
      "Data columns (total 13 columns):\n",
      " #   Column                    Non-Null Count  Dtype  \n",
      "---  ------                    --------------  -----  \n",
      " 0   age                       299 non-null    float64\n",
      " 1   anaemia                   299 non-null    int64  \n",
      " 2   creatinine_phosphokinase  299 non-null    int64  \n",
      " 3   diabetes                  299 non-null    int64  \n",
      " 4   ejection_fraction         299 non-null    int64  \n",
      " 5   high_blood_pressure       299 non-null    int64  \n",
      " 6   platelets                 299 non-null    float64\n",
      " 7   serum_creatinine          299 non-null    float64\n",
      " 8   serum_sodium              299 non-null    int64  \n",
      " 9   sex                       299 non-null    int64  \n",
      " 10  smoking                   299 non-null    int64  \n",
      " 11  time                      299 non-null    int64  \n",
      " 12  DEATH_EVENT               299 non-null    int64  \n",
      "dtypes: float64(3), int64(10)\n",
      "memory usage: 30.5 KB\n"
     ]
    }
   ],
   "source": [
    "df.info()"
   ]
  },
  {
   "cell_type": "code",
   "execution_count": 5,
   "metadata": {
    "scrolled": true
   },
   "outputs": [
    {
     "data": {
      "text/plain": [
       "(299, 13)"
      ]
     },
     "execution_count": 5,
     "metadata": {},
     "output_type": "execute_result"
    }
   ],
   "source": [
    "df.shape"
   ]
  },
  {
   "cell_type": "markdown",
   "metadata": {},
   "source": [
    "### Feature Creation\n",
    "\n",
    "Data clesnsing and feature engineering"
   ]
  },
  {
   "cell_type": "code",
   "execution_count": 6,
   "metadata": {},
   "outputs": [
    {
     "data": {
      "text/plain": [
       "Index(['age', 'anaemia', 'creatinine_phosphokinase', 'diabetes',\n",
       "       'ejection_fraction', 'high_blood_pressure', 'platelets',\n",
       "       'serum_creatinine', 'serum_sodium', 'sex', 'smoking', 'time',\n",
       "       'DEATH_EVENT'],\n",
       "      dtype='object')"
      ]
     },
     "execution_count": 6,
     "metadata": {},
     "output_type": "execute_result"
    }
   ],
   "source": [
    "#Show all columns.\n",
    "\n",
    "df.columns"
   ]
  },
  {
   "cell_type": "code",
   "execution_count": 7,
   "metadata": {},
   "outputs": [],
   "source": [
    "#Rename column\n",
    "\n",
    "df.rename(columns={'DEATH_EVENT': 'death_event'},inplace = True)"
   ]
  },
  {
   "cell_type": "code",
   "execution_count": 8,
   "metadata": {},
   "outputs": [
    {
     "data": {
      "text/html": [
       "<div>\n",
       "<style scoped>\n",
       "    .dataframe tbody tr th:only-of-type {\n",
       "        vertical-align: middle;\n",
       "    }\n",
       "\n",
       "    .dataframe tbody tr th {\n",
       "        vertical-align: top;\n",
       "    }\n",
       "\n",
       "    .dataframe thead th {\n",
       "        text-align: right;\n",
       "    }\n",
       "</style>\n",
       "<table border=\"1\" class=\"dataframe\">\n",
       "  <thead>\n",
       "    <tr style=\"text-align: right;\">\n",
       "      <th></th>\n",
       "      <th>age</th>\n",
       "      <th>anaemia</th>\n",
       "      <th>creatinine_phosphokinase</th>\n",
       "      <th>diabetes</th>\n",
       "      <th>ejection_fraction</th>\n",
       "      <th>high_blood_pressure</th>\n",
       "      <th>platelets</th>\n",
       "      <th>serum_creatinine</th>\n",
       "      <th>serum_sodium</th>\n",
       "      <th>sex</th>\n",
       "      <th>smoking</th>\n",
       "      <th>time</th>\n",
       "      <th>death_event</th>\n",
       "    </tr>\n",
       "  </thead>\n",
       "  <tbody>\n",
       "    <tr>\n",
       "      <th>0</th>\n",
       "      <td>75.0</td>\n",
       "      <td>0</td>\n",
       "      <td>582</td>\n",
       "      <td>0</td>\n",
       "      <td>20</td>\n",
       "      <td>1</td>\n",
       "      <td>265000.00</td>\n",
       "      <td>1.9</td>\n",
       "      <td>130</td>\n",
       "      <td>1</td>\n",
       "      <td>0</td>\n",
       "      <td>4</td>\n",
       "      <td>1</td>\n",
       "    </tr>\n",
       "    <tr>\n",
       "      <th>1</th>\n",
       "      <td>55.0</td>\n",
       "      <td>0</td>\n",
       "      <td>7861</td>\n",
       "      <td>0</td>\n",
       "      <td>38</td>\n",
       "      <td>0</td>\n",
       "      <td>263358.03</td>\n",
       "      <td>1.1</td>\n",
       "      <td>136</td>\n",
       "      <td>1</td>\n",
       "      <td>0</td>\n",
       "      <td>6</td>\n",
       "      <td>1</td>\n",
       "    </tr>\n",
       "    <tr>\n",
       "      <th>2</th>\n",
       "      <td>65.0</td>\n",
       "      <td>0</td>\n",
       "      <td>146</td>\n",
       "      <td>0</td>\n",
       "      <td>20</td>\n",
       "      <td>0</td>\n",
       "      <td>162000.00</td>\n",
       "      <td>1.3</td>\n",
       "      <td>129</td>\n",
       "      <td>1</td>\n",
       "      <td>1</td>\n",
       "      <td>7</td>\n",
       "      <td>1</td>\n",
       "    </tr>\n",
       "    <tr>\n",
       "      <th>3</th>\n",
       "      <td>50.0</td>\n",
       "      <td>1</td>\n",
       "      <td>111</td>\n",
       "      <td>0</td>\n",
       "      <td>20</td>\n",
       "      <td>0</td>\n",
       "      <td>210000.00</td>\n",
       "      <td>1.9</td>\n",
       "      <td>137</td>\n",
       "      <td>1</td>\n",
       "      <td>0</td>\n",
       "      <td>7</td>\n",
       "      <td>1</td>\n",
       "    </tr>\n",
       "    <tr>\n",
       "      <th>4</th>\n",
       "      <td>65.0</td>\n",
       "      <td>1</td>\n",
       "      <td>160</td>\n",
       "      <td>1</td>\n",
       "      <td>20</td>\n",
       "      <td>0</td>\n",
       "      <td>327000.00</td>\n",
       "      <td>2.7</td>\n",
       "      <td>116</td>\n",
       "      <td>0</td>\n",
       "      <td>0</td>\n",
       "      <td>8</td>\n",
       "      <td>1</td>\n",
       "    </tr>\n",
       "    <tr>\n",
       "      <th>...</th>\n",
       "      <td>...</td>\n",
       "      <td>...</td>\n",
       "      <td>...</td>\n",
       "      <td>...</td>\n",
       "      <td>...</td>\n",
       "      <td>...</td>\n",
       "      <td>...</td>\n",
       "      <td>...</td>\n",
       "      <td>...</td>\n",
       "      <td>...</td>\n",
       "      <td>...</td>\n",
       "      <td>...</td>\n",
       "      <td>...</td>\n",
       "    </tr>\n",
       "    <tr>\n",
       "      <th>294</th>\n",
       "      <td>62.0</td>\n",
       "      <td>0</td>\n",
       "      <td>61</td>\n",
       "      <td>1</td>\n",
       "      <td>38</td>\n",
       "      <td>1</td>\n",
       "      <td>155000.00</td>\n",
       "      <td>1.1</td>\n",
       "      <td>143</td>\n",
       "      <td>1</td>\n",
       "      <td>1</td>\n",
       "      <td>270</td>\n",
       "      <td>0</td>\n",
       "    </tr>\n",
       "    <tr>\n",
       "      <th>295</th>\n",
       "      <td>55.0</td>\n",
       "      <td>0</td>\n",
       "      <td>1820</td>\n",
       "      <td>0</td>\n",
       "      <td>38</td>\n",
       "      <td>0</td>\n",
       "      <td>270000.00</td>\n",
       "      <td>1.2</td>\n",
       "      <td>139</td>\n",
       "      <td>0</td>\n",
       "      <td>0</td>\n",
       "      <td>271</td>\n",
       "      <td>0</td>\n",
       "    </tr>\n",
       "    <tr>\n",
       "      <th>296</th>\n",
       "      <td>45.0</td>\n",
       "      <td>0</td>\n",
       "      <td>2060</td>\n",
       "      <td>1</td>\n",
       "      <td>60</td>\n",
       "      <td>0</td>\n",
       "      <td>742000.00</td>\n",
       "      <td>0.8</td>\n",
       "      <td>138</td>\n",
       "      <td>0</td>\n",
       "      <td>0</td>\n",
       "      <td>278</td>\n",
       "      <td>0</td>\n",
       "    </tr>\n",
       "    <tr>\n",
       "      <th>297</th>\n",
       "      <td>45.0</td>\n",
       "      <td>0</td>\n",
       "      <td>2413</td>\n",
       "      <td>0</td>\n",
       "      <td>38</td>\n",
       "      <td>0</td>\n",
       "      <td>140000.00</td>\n",
       "      <td>1.4</td>\n",
       "      <td>140</td>\n",
       "      <td>1</td>\n",
       "      <td>1</td>\n",
       "      <td>280</td>\n",
       "      <td>0</td>\n",
       "    </tr>\n",
       "    <tr>\n",
       "      <th>298</th>\n",
       "      <td>50.0</td>\n",
       "      <td>0</td>\n",
       "      <td>196</td>\n",
       "      <td>0</td>\n",
       "      <td>45</td>\n",
       "      <td>0</td>\n",
       "      <td>395000.00</td>\n",
       "      <td>1.6</td>\n",
       "      <td>136</td>\n",
       "      <td>1</td>\n",
       "      <td>1</td>\n",
       "      <td>285</td>\n",
       "      <td>0</td>\n",
       "    </tr>\n",
       "  </tbody>\n",
       "</table>\n",
       "<p>299 rows × 13 columns</p>\n",
       "</div>"
      ],
      "text/plain": [
       "      age  anaemia  creatinine_phosphokinase  diabetes  ejection_fraction  \\\n",
       "0    75.0        0                       582         0                 20   \n",
       "1    55.0        0                      7861         0                 38   \n",
       "2    65.0        0                       146         0                 20   \n",
       "3    50.0        1                       111         0                 20   \n",
       "4    65.0        1                       160         1                 20   \n",
       "..    ...      ...                       ...       ...                ...   \n",
       "294  62.0        0                        61         1                 38   \n",
       "295  55.0        0                      1820         0                 38   \n",
       "296  45.0        0                      2060         1                 60   \n",
       "297  45.0        0                      2413         0                 38   \n",
       "298  50.0        0                       196         0                 45   \n",
       "\n",
       "     high_blood_pressure  platelets  serum_creatinine  serum_sodium  sex  \\\n",
       "0                      1  265000.00               1.9           130    1   \n",
       "1                      0  263358.03               1.1           136    1   \n",
       "2                      0  162000.00               1.3           129    1   \n",
       "3                      0  210000.00               1.9           137    1   \n",
       "4                      0  327000.00               2.7           116    0   \n",
       "..                   ...        ...               ...           ...  ...   \n",
       "294                    1  155000.00               1.1           143    1   \n",
       "295                    0  270000.00               1.2           139    0   \n",
       "296                    0  742000.00               0.8           138    0   \n",
       "297                    0  140000.00               1.4           140    1   \n",
       "298                    0  395000.00               1.6           136    1   \n",
       "\n",
       "     smoking  time  death_event  \n",
       "0          0     4            1  \n",
       "1          0     6            1  \n",
       "2          1     7            1  \n",
       "3          0     7            1  \n",
       "4          0     8            1  \n",
       "..       ...   ...          ...  \n",
       "294        1   270            0  \n",
       "295        0   271            0  \n",
       "296        0   278            0  \n",
       "297        1   280            0  \n",
       "298        1   285            0  \n",
       "\n",
       "[299 rows x 13 columns]"
      ]
     },
     "execution_count": 8,
     "metadata": {},
     "output_type": "execute_result"
    }
   ],
   "source": [
    "# Remove missing values\n",
    "\n",
    "df.dropna(axis=0)"
   ]
  },
  {
   "cell_type": "code",
   "execution_count": 9,
   "metadata": {},
   "outputs": [
    {
     "data": {
      "text/html": [
       "<div>\n",
       "<style scoped>\n",
       "    .dataframe tbody tr th:only-of-type {\n",
       "        vertical-align: middle;\n",
       "    }\n",
       "\n",
       "    .dataframe tbody tr th {\n",
       "        vertical-align: top;\n",
       "    }\n",
       "\n",
       "    .dataframe thead th {\n",
       "        text-align: right;\n",
       "    }\n",
       "</style>\n",
       "<table border=\"1\" class=\"dataframe\">\n",
       "  <thead>\n",
       "    <tr style=\"text-align: right;\">\n",
       "      <th></th>\n",
       "      <th>age</th>\n",
       "      <th>anaemia</th>\n",
       "      <th>creatinine_phosphokinase</th>\n",
       "      <th>diabetes</th>\n",
       "      <th>ejection_fraction</th>\n",
       "      <th>high_blood_pressure</th>\n",
       "      <th>platelets</th>\n",
       "      <th>serum_creatinine</th>\n",
       "      <th>serum_sodium</th>\n",
       "      <th>sex</th>\n",
       "      <th>smoking</th>\n",
       "      <th>time</th>\n",
       "      <th>death_event</th>\n",
       "    </tr>\n",
       "  </thead>\n",
       "  <tbody>\n",
       "    <tr>\n",
       "      <th>age</th>\n",
       "      <td>1.000000</td>\n",
       "      <td>0.088006</td>\n",
       "      <td>-0.081584</td>\n",
       "      <td>-0.101012</td>\n",
       "      <td>0.060098</td>\n",
       "      <td>0.093289</td>\n",
       "      <td>-0.052354</td>\n",
       "      <td>0.159187</td>\n",
       "      <td>-0.045966</td>\n",
       "      <td>0.065430</td>\n",
       "      <td>0.018668</td>\n",
       "      <td>-0.224068</td>\n",
       "      <td>0.253729</td>\n",
       "    </tr>\n",
       "    <tr>\n",
       "      <th>anaemia</th>\n",
       "      <td>0.088006</td>\n",
       "      <td>1.000000</td>\n",
       "      <td>-0.190741</td>\n",
       "      <td>-0.012729</td>\n",
       "      <td>0.031557</td>\n",
       "      <td>0.038182</td>\n",
       "      <td>-0.043786</td>\n",
       "      <td>0.052174</td>\n",
       "      <td>0.041882</td>\n",
       "      <td>-0.094769</td>\n",
       "      <td>-0.107290</td>\n",
       "      <td>-0.141414</td>\n",
       "      <td>0.066270</td>\n",
       "    </tr>\n",
       "    <tr>\n",
       "      <th>creatinine_phosphokinase</th>\n",
       "      <td>-0.081584</td>\n",
       "      <td>-0.190741</td>\n",
       "      <td>1.000000</td>\n",
       "      <td>-0.009639</td>\n",
       "      <td>-0.044080</td>\n",
       "      <td>-0.070590</td>\n",
       "      <td>0.024463</td>\n",
       "      <td>-0.016408</td>\n",
       "      <td>0.059550</td>\n",
       "      <td>0.079791</td>\n",
       "      <td>0.002421</td>\n",
       "      <td>-0.009346</td>\n",
       "      <td>0.062728</td>\n",
       "    </tr>\n",
       "    <tr>\n",
       "      <th>diabetes</th>\n",
       "      <td>-0.101012</td>\n",
       "      <td>-0.012729</td>\n",
       "      <td>-0.009639</td>\n",
       "      <td>1.000000</td>\n",
       "      <td>-0.004850</td>\n",
       "      <td>-0.012732</td>\n",
       "      <td>0.092193</td>\n",
       "      <td>-0.046975</td>\n",
       "      <td>-0.089551</td>\n",
       "      <td>-0.157730</td>\n",
       "      <td>-0.147173</td>\n",
       "      <td>0.033726</td>\n",
       "      <td>-0.001943</td>\n",
       "    </tr>\n",
       "    <tr>\n",
       "      <th>ejection_fraction</th>\n",
       "      <td>0.060098</td>\n",
       "      <td>0.031557</td>\n",
       "      <td>-0.044080</td>\n",
       "      <td>-0.004850</td>\n",
       "      <td>1.000000</td>\n",
       "      <td>0.024445</td>\n",
       "      <td>0.072177</td>\n",
       "      <td>-0.011302</td>\n",
       "      <td>0.175902</td>\n",
       "      <td>-0.148386</td>\n",
       "      <td>-0.067315</td>\n",
       "      <td>0.041729</td>\n",
       "      <td>-0.268603</td>\n",
       "    </tr>\n",
       "    <tr>\n",
       "      <th>high_blood_pressure</th>\n",
       "      <td>0.093289</td>\n",
       "      <td>0.038182</td>\n",
       "      <td>-0.070590</td>\n",
       "      <td>-0.012732</td>\n",
       "      <td>0.024445</td>\n",
       "      <td>1.000000</td>\n",
       "      <td>0.049963</td>\n",
       "      <td>-0.004935</td>\n",
       "      <td>0.037109</td>\n",
       "      <td>-0.104615</td>\n",
       "      <td>-0.055711</td>\n",
       "      <td>-0.196439</td>\n",
       "      <td>0.079351</td>\n",
       "    </tr>\n",
       "    <tr>\n",
       "      <th>platelets</th>\n",
       "      <td>-0.052354</td>\n",
       "      <td>-0.043786</td>\n",
       "      <td>0.024463</td>\n",
       "      <td>0.092193</td>\n",
       "      <td>0.072177</td>\n",
       "      <td>0.049963</td>\n",
       "      <td>1.000000</td>\n",
       "      <td>-0.041198</td>\n",
       "      <td>0.062125</td>\n",
       "      <td>-0.125120</td>\n",
       "      <td>0.028234</td>\n",
       "      <td>0.010514</td>\n",
       "      <td>-0.049139</td>\n",
       "    </tr>\n",
       "    <tr>\n",
       "      <th>serum_creatinine</th>\n",
       "      <td>0.159187</td>\n",
       "      <td>0.052174</td>\n",
       "      <td>-0.016408</td>\n",
       "      <td>-0.046975</td>\n",
       "      <td>-0.011302</td>\n",
       "      <td>-0.004935</td>\n",
       "      <td>-0.041198</td>\n",
       "      <td>1.000000</td>\n",
       "      <td>-0.189095</td>\n",
       "      <td>0.006970</td>\n",
       "      <td>-0.027414</td>\n",
       "      <td>-0.149315</td>\n",
       "      <td>0.294278</td>\n",
       "    </tr>\n",
       "    <tr>\n",
       "      <th>serum_sodium</th>\n",
       "      <td>-0.045966</td>\n",
       "      <td>0.041882</td>\n",
       "      <td>0.059550</td>\n",
       "      <td>-0.089551</td>\n",
       "      <td>0.175902</td>\n",
       "      <td>0.037109</td>\n",
       "      <td>0.062125</td>\n",
       "      <td>-0.189095</td>\n",
       "      <td>1.000000</td>\n",
       "      <td>-0.027566</td>\n",
       "      <td>0.004813</td>\n",
       "      <td>0.087640</td>\n",
       "      <td>-0.195204</td>\n",
       "    </tr>\n",
       "    <tr>\n",
       "      <th>sex</th>\n",
       "      <td>0.065430</td>\n",
       "      <td>-0.094769</td>\n",
       "      <td>0.079791</td>\n",
       "      <td>-0.157730</td>\n",
       "      <td>-0.148386</td>\n",
       "      <td>-0.104615</td>\n",
       "      <td>-0.125120</td>\n",
       "      <td>0.006970</td>\n",
       "      <td>-0.027566</td>\n",
       "      <td>1.000000</td>\n",
       "      <td>0.445892</td>\n",
       "      <td>-0.015608</td>\n",
       "      <td>-0.004316</td>\n",
       "    </tr>\n",
       "    <tr>\n",
       "      <th>smoking</th>\n",
       "      <td>0.018668</td>\n",
       "      <td>-0.107290</td>\n",
       "      <td>0.002421</td>\n",
       "      <td>-0.147173</td>\n",
       "      <td>-0.067315</td>\n",
       "      <td>-0.055711</td>\n",
       "      <td>0.028234</td>\n",
       "      <td>-0.027414</td>\n",
       "      <td>0.004813</td>\n",
       "      <td>0.445892</td>\n",
       "      <td>1.000000</td>\n",
       "      <td>-0.022839</td>\n",
       "      <td>-0.012623</td>\n",
       "    </tr>\n",
       "    <tr>\n",
       "      <th>time</th>\n",
       "      <td>-0.224068</td>\n",
       "      <td>-0.141414</td>\n",
       "      <td>-0.009346</td>\n",
       "      <td>0.033726</td>\n",
       "      <td>0.041729</td>\n",
       "      <td>-0.196439</td>\n",
       "      <td>0.010514</td>\n",
       "      <td>-0.149315</td>\n",
       "      <td>0.087640</td>\n",
       "      <td>-0.015608</td>\n",
       "      <td>-0.022839</td>\n",
       "      <td>1.000000</td>\n",
       "      <td>-0.526964</td>\n",
       "    </tr>\n",
       "    <tr>\n",
       "      <th>death_event</th>\n",
       "      <td>0.253729</td>\n",
       "      <td>0.066270</td>\n",
       "      <td>0.062728</td>\n",
       "      <td>-0.001943</td>\n",
       "      <td>-0.268603</td>\n",
       "      <td>0.079351</td>\n",
       "      <td>-0.049139</td>\n",
       "      <td>0.294278</td>\n",
       "      <td>-0.195204</td>\n",
       "      <td>-0.004316</td>\n",
       "      <td>-0.012623</td>\n",
       "      <td>-0.526964</td>\n",
       "      <td>1.000000</td>\n",
       "    </tr>\n",
       "  </tbody>\n",
       "</table>\n",
       "</div>"
      ],
      "text/plain": [
       "                               age   anaemia  creatinine_phosphokinase  \\\n",
       "age                       1.000000  0.088006                 -0.081584   \n",
       "anaemia                   0.088006  1.000000                 -0.190741   \n",
       "creatinine_phosphokinase -0.081584 -0.190741                  1.000000   \n",
       "diabetes                 -0.101012 -0.012729                 -0.009639   \n",
       "ejection_fraction         0.060098  0.031557                 -0.044080   \n",
       "high_blood_pressure       0.093289  0.038182                 -0.070590   \n",
       "platelets                -0.052354 -0.043786                  0.024463   \n",
       "serum_creatinine          0.159187  0.052174                 -0.016408   \n",
       "serum_sodium             -0.045966  0.041882                  0.059550   \n",
       "sex                       0.065430 -0.094769                  0.079791   \n",
       "smoking                   0.018668 -0.107290                  0.002421   \n",
       "time                     -0.224068 -0.141414                 -0.009346   \n",
       "death_event               0.253729  0.066270                  0.062728   \n",
       "\n",
       "                          diabetes  ejection_fraction  high_blood_pressure  \\\n",
       "age                      -0.101012           0.060098             0.093289   \n",
       "anaemia                  -0.012729           0.031557             0.038182   \n",
       "creatinine_phosphokinase -0.009639          -0.044080            -0.070590   \n",
       "diabetes                  1.000000          -0.004850            -0.012732   \n",
       "ejection_fraction        -0.004850           1.000000             0.024445   \n",
       "high_blood_pressure      -0.012732           0.024445             1.000000   \n",
       "platelets                 0.092193           0.072177             0.049963   \n",
       "serum_creatinine         -0.046975          -0.011302            -0.004935   \n",
       "serum_sodium             -0.089551           0.175902             0.037109   \n",
       "sex                      -0.157730          -0.148386            -0.104615   \n",
       "smoking                  -0.147173          -0.067315            -0.055711   \n",
       "time                      0.033726           0.041729            -0.196439   \n",
       "death_event              -0.001943          -0.268603             0.079351   \n",
       "\n",
       "                          platelets  serum_creatinine  serum_sodium       sex  \\\n",
       "age                       -0.052354          0.159187     -0.045966  0.065430   \n",
       "anaemia                   -0.043786          0.052174      0.041882 -0.094769   \n",
       "creatinine_phosphokinase   0.024463         -0.016408      0.059550  0.079791   \n",
       "diabetes                   0.092193         -0.046975     -0.089551 -0.157730   \n",
       "ejection_fraction          0.072177         -0.011302      0.175902 -0.148386   \n",
       "high_blood_pressure        0.049963         -0.004935      0.037109 -0.104615   \n",
       "platelets                  1.000000         -0.041198      0.062125 -0.125120   \n",
       "serum_creatinine          -0.041198          1.000000     -0.189095  0.006970   \n",
       "serum_sodium               0.062125         -0.189095      1.000000 -0.027566   \n",
       "sex                       -0.125120          0.006970     -0.027566  1.000000   \n",
       "smoking                    0.028234         -0.027414      0.004813  0.445892   \n",
       "time                       0.010514         -0.149315      0.087640 -0.015608   \n",
       "death_event               -0.049139          0.294278     -0.195204 -0.004316   \n",
       "\n",
       "                           smoking      time  death_event  \n",
       "age                       0.018668 -0.224068     0.253729  \n",
       "anaemia                  -0.107290 -0.141414     0.066270  \n",
       "creatinine_phosphokinase  0.002421 -0.009346     0.062728  \n",
       "diabetes                 -0.147173  0.033726    -0.001943  \n",
       "ejection_fraction        -0.067315  0.041729    -0.268603  \n",
       "high_blood_pressure      -0.055711 -0.196439     0.079351  \n",
       "platelets                 0.028234  0.010514    -0.049139  \n",
       "serum_creatinine         -0.027414 -0.149315     0.294278  \n",
       "serum_sodium              0.004813  0.087640    -0.195204  \n",
       "sex                       0.445892 -0.015608    -0.004316  \n",
       "smoking                   1.000000 -0.022839    -0.012623  \n",
       "time                     -0.022839  1.000000    -0.526964  \n",
       "death_event              -0.012623 -0.526964     1.000000  "
      ]
     },
     "execution_count": 9,
     "metadata": {},
     "output_type": "execute_result"
    }
   ],
   "source": [
    "df.corr()"
   ]
  },
  {
   "cell_type": "code",
   "execution_count": 10,
   "metadata": {},
   "outputs": [
    {
     "data": {
      "image/png": "[encoded data removed]",
      "text/plain": [
       "<Figure size 432x288 with 2 Axes>"
      ]
     },
     "metadata": {
      "needs_background": "light"
     },
     "output_type": "display_data"
    }
   ],
   "source": [
    "corrMatrix = df.corr()\n",
    "sn.heatmap(corrMatrix, cmap=\"Blues_r\")\n",
    "plt.show()"
   ]
  },
  {
   "cell_type": "markdown",
   "metadata": {},
   "source": [
    "**From the correlation table, we can find that all features are somehow correlated to the death event. So, all clinical features will be included in the model training.**"
   ]
  },
  {
   "cell_type": "code",
   "execution_count": 11,
   "metadata": {},
   "outputs": [],
   "source": [
    "#Split data to X = independent variables and y = target\n",
    "\n",
    "X = df.drop(columns=('death_event'),axis=1)\n",
    "y = df.death_event"
   ]
  },
  {
   "cell_type": "code",
   "execution_count": 12,
   "metadata": {},
   "outputs": [],
   "source": [
    "# Scale\n",
    "scale = MinMaxScaler()\n",
    "X= scale.fit_transform(X)"
   ]
  },
  {
   "cell_type": "code",
   "execution_count": 13,
   "metadata": {},
   "outputs": [
    {
     "data": {
      "text/plain": [
       "((254, 12), (45, 12), (254,), (45,))"
      ]
     },
     "execution_count": 13,
     "metadata": {},
     "output_type": "execute_result"
    }
   ],
   "source": [
    "#Split the dataset, 85% for training, 15% for testing\n",
    "\n",
    "X_train, X_test, y_train, y_test = train_test_split(X,y,test_size=0.15, random_state=1)\n",
    "\n",
    "X_train.shape, X_test.shape, y_train.shape, y_test.shape"
   ]
  },
  {
   "cell_type": "markdown",
   "metadata": {},
   "source": [
    "### Random Forest Classifier"
   ]
  },
  {
   "cell_type": "code",
   "execution_count": 14,
   "metadata": {},
   "outputs": [],
   "source": [
    "model = RandomForestClassifier(n_estimators=50, class_weight='balanced', random_state=0)"
   ]
  },
  {
   "cell_type": "code",
   "execution_count": 15,
   "metadata": {},
   "outputs": [
    {
     "data": {
      "text/plain": [
       "RandomForestClassifier(bootstrap=True, ccp_alpha=0.0, class_weight='balanced',\n",
       "                       criterion='gini', max_depth=None, max_features='auto',\n",
       "                       max_leaf_nodes=None, max_samples=None,\n",
       "                       min_impurity_decrease=0.0, min_impurity_split=None,\n",
       "                       min_samples_leaf=1, min_samples_split=2,\n",
       "                       min_weight_fraction_leaf=0.0, n_estimators=50,\n",
       "                       n_jobs=None, oob_score=False, random_state=0, verbose=0,\n",
       "                       warm_start=False)"
      ]
     },
     "execution_count": 15,
     "metadata": {},
     "output_type": "execute_result"
    }
   ],
   "source": [
    "model.fit(X_train, y_train)"
   ]
  },
  {
   "cell_type": "code",
   "execution_count": 16,
   "metadata": {
    "scrolled": true
   },
   "outputs": [
    {
     "name": "stdout",
     "output_type": "stream",
     "text": [
      "Accuracy-Score: 0.911\n",
      "F1-Score: 0.800\n"
     ]
    }
   ],
   "source": [
    "print('Accuracy-Score: {:.3f}'.format(accuracy_score(y_test, model.predict(X_test))))\n",
    "print('F1-Score: {:.3f}'.format(f1_score(y_test, model.predict(X_test))))"
   ]
  },
  {
   "cell_type": "code",
   "execution_count": 17,
   "metadata": {},
   "outputs": [
    {
     "data": {
      "image/png": "[encoded data removed]",
      "text/plain": [
       "<Figure size 432x288 with 2 Axes>"
      ]
     },
     "metadata": {
      "needs_background": "light"
     },
     "output_type": "display_data"
    }
   ],
   "source": [
    "plot_confusion_matrix(model, X_test, y_test, cmap=\"Blues_r\")\n",
    "plt.show()"
   ]
  },
  {
   "cell_type": "markdown",
   "metadata": {},
   "source": [
    "### Cat Boost Classifier"
   ]
  },
  {
   "cell_type": "code",
   "execution_count": 18,
   "metadata": {},
   "outputs": [
    {
     "name": "stdout",
     "output_type": "stream",
     "text": [
      "Learning rate set to 0.089504\n",
      "0:\tlearn: 0.6720549\ttotal: 134ms\tremaining: 6.58s\n",
      "1:\tlearn: 0.6459998\ttotal: 136ms\tremaining: 3.26s\n",
      "2:\tlearn: 0.6228712\ttotal: 137ms\tremaining: 2.15s\n",
      "3:\tlearn: 0.6028374\ttotal: 139ms\tremaining: 1.6s\n",
      "4:\tlearn: 0.5777210\ttotal: 141ms\tremaining: 1.27s\n",
      "5:\tlearn: 0.5577173\ttotal: 142ms\tremaining: 1.04s\n",
      "6:\tlearn: 0.5405093\ttotal: 144ms\tremaining: 883ms\n",
      "7:\tlearn: 0.5229435\ttotal: 146ms\tremaining: 764ms\n",
      "8:\tlearn: 0.5076326\ttotal: 147ms\tremaining: 671ms\n",
      "9:\tlearn: 0.4916688\ttotal: 149ms\tremaining: 596ms\n",
      "10:\tlearn: 0.4792031\ttotal: 151ms\tremaining: 535ms\n",
      "11:\tlearn: 0.4679567\ttotal: 153ms\tremaining: 484ms\n",
      "12:\tlearn: 0.4593540\ttotal: 154ms\tremaining: 439ms\n",
      "13:\tlearn: 0.4485737\ttotal: 156ms\tremaining: 401ms\n",
      "14:\tlearn: 0.4415963\ttotal: 157ms\tremaining: 367ms\n",
      "15:\tlearn: 0.4292164\ttotal: 159ms\tremaining: 338ms\n",
      "16:\tlearn: 0.4194282\ttotal: 160ms\tremaining: 312ms\n",
      "17:\tlearn: 0.4141644\ttotal: 162ms\tremaining: 288ms\n",
      "18:\tlearn: 0.4068289\ttotal: 164ms\tremaining: 267ms\n",
      "19:\tlearn: 0.3999351\ttotal: 165ms\tremaining: 248ms\n",
      "20:\tlearn: 0.3922613\ttotal: 167ms\tremaining: 231ms\n",
      "21:\tlearn: 0.3862288\ttotal: 169ms\tremaining: 216ms\n",
      "22:\tlearn: 0.3788015\ttotal: 172ms\tremaining: 201ms\n",
      "23:\tlearn: 0.3725051\ttotal: 173ms\tremaining: 188ms\n",
      "24:\tlearn: 0.3657112\ttotal: 175ms\tremaining: 175ms\n",
      "25:\tlearn: 0.3611477\ttotal: 177ms\tremaining: 163ms\n",
      "26:\tlearn: 0.3576290\ttotal: 178ms\tremaining: 152ms\n",
      "27:\tlearn: 0.3525674\ttotal: 180ms\tremaining: 142ms\n",
      "28:\tlearn: 0.3477889\ttotal: 182ms\tremaining: 132ms\n",
      "29:\tlearn: 0.3439418\ttotal: 184ms\tremaining: 123ms\n",
      "30:\tlearn: 0.3407086\ttotal: 186ms\tremaining: 114ms\n",
      "31:\tlearn: 0.3365222\ttotal: 188ms\tremaining: 106ms\n",
      "32:\tlearn: 0.3313492\ttotal: 191ms\tremaining: 98.6ms\n",
      "33:\tlearn: 0.3261951\ttotal: 193ms\tremaining: 90.9ms\n",
      "34:\tlearn: 0.3231984\ttotal: 195ms\tremaining: 83.5ms\n",
      "35:\tlearn: 0.3205696\ttotal: 197ms\tremaining: 76.5ms\n",
      "36:\tlearn: 0.3173095\ttotal: 198ms\tremaining: 69.7ms\n",
      "37:\tlearn: 0.3143487\ttotal: 200ms\tremaining: 63.3ms\n",
      "38:\tlearn: 0.3117708\ttotal: 202ms\tremaining: 56.9ms\n",
      "39:\tlearn: 0.3081472\ttotal: 205ms\tremaining: 51.1ms\n",
      "40:\tlearn: 0.3064404\ttotal: 206ms\tremaining: 45.2ms\n",
      "41:\tlearn: 0.3022633\ttotal: 207ms\tremaining: 39.5ms\n",
      "42:\tlearn: 0.2989573\ttotal: 209ms\tremaining: 34ms\n",
      "43:\tlearn: 0.2958303\ttotal: 211ms\tremaining: 28.8ms\n",
      "44:\tlearn: 0.2930921\ttotal: 212ms\tremaining: 23.6ms\n",
      "45:\tlearn: 0.2904686\ttotal: 214ms\tremaining: 18.6ms\n",
      "46:\tlearn: 0.2871520\ttotal: 215ms\tremaining: 13.8ms\n",
      "47:\tlearn: 0.2838525\ttotal: 217ms\tremaining: 9.04ms\n",
      "48:\tlearn: 0.2806450\ttotal: 218ms\tremaining: 4.46ms\n",
      "49:\tlearn: 0.2775370\ttotal: 220ms\tremaining: 0us\n"
     ]
    },
    {
     "data": {
      "text/plain": [
       "<catboost.core.CatBoostClassifier at 0x1f93f326388>"
      ]
     },
     "execution_count": 18,
     "metadata": {},
     "output_type": "execute_result"
    }
   ],
   "source": [
    "model1 = CatBoostClassifier(n_estimators=50, random_state=0)\n",
    "model1.fit(X_train , y_train)"
   ]
  },
  {
   "cell_type": "code",
   "execution_count": 19,
   "metadata": {
    "scrolled": true
   },
   "outputs": [
    {
     "name": "stdout",
     "output_type": "stream",
     "text": [
      "Accuracy-Score: 0.867\n",
      "F1-Score: 0.667\n"
     ]
    }
   ],
   "source": [
    "print('Accuracy-Score: {:.3f}'.format(accuracy_score(y_test, model1.predict(X_test))))\n",
    "print('F1-Score: {:.3f}'.format(f1_score(y_test, model1.predict(X_test))))"
   ]
  },
  {
   "cell_type": "code",
   "execution_count": 20,
   "metadata": {},
   "outputs": [
    {
     "data": {
      "image/png": "[encoded data removed]",
      "text/plain": [
       "<Figure size 432x288 with 2 Axes>"
      ]
     },
     "metadata": {
      "needs_background": "light"
     },
     "output_type": "display_data"
    }
   ],
   "source": [
    "plot_confusion_matrix(model1, X_test, y_test, cmap=\"Blues_r\")\n",
    "plt.show()"
   ]
  },
  {
   "cell_type": "markdown",
   "metadata": {},
   "source": [
    "### Feedforward Neural Network"
   ]
  },
  {
   "cell_type": "code",
   "execution_count": 21,
   "metadata": {},
   "outputs": [],
   "source": [
    "X2_train, X2_test, y2_train, y2_test = train_test_split(X,y,test_size=0.15, random_state=1)"
   ]
  },
  {
   "cell_type": "code",
   "execution_count": 22,
   "metadata": {},
   "outputs": [],
   "source": [
    "model2 = Sequential()\n",
    "model2.add(Dense(20,activation='relu',input_shape=(12,)))\n",
    "model2.add(Dropout(0.1,seed=5))\n",
    "model2.add(Dense(20,activation='relu'))\n",
    "model2.add(Dropout(0.1,seed=5))\n",
    "model2.add(Dense(1,activation='sigmoid'))"
   ]
  },
  {
   "cell_type": "code",
   "execution_count": 23,
   "metadata": {},
   "outputs": [],
   "source": [
    "opt = keras.optimizers.adam(learning_rate=0.0005)"
   ]
  },
  {
   "cell_type": "code",
   "execution_count": 24,
   "metadata": {},
   "outputs": [
    {
     "name": "stdout",
     "output_type": "stream",
     "text": [
      "WARNING:tensorflow:From C:\\Users\\Chan\\anaconda3\\lib\\site-packages\\tensorflow\\python\\ops\\nn_impl.py:180: add_dispatch_support.<locals>.wrapper (from tensorflow.python.ops.array_ops) is deprecated and will be removed in a future version.\n",
      "Instructions for updating:\n",
      "Use tf.where in 2.0, which has the same broadcast rule as np.where\n"
     ]
    }
   ],
   "source": [
    "model2.compile(loss='binary_crossentropy', optimizer=opt,metrics=['accuracy'])"
   ]
  },
  {
   "cell_type": "code",
   "execution_count": 25,
   "metadata": {
    "scrolled": false
   },
   "outputs": [
    {
     "name": "stdout",
     "output_type": "stream",
     "text": [
      "WARNING:tensorflow:From C:\\Users\\Chan\\anaconda3\\lib\\site-packages\\keras\\backend\\tensorflow_backend.py:422: The name tf.global_variables is deprecated. Please use tf.compat.v1.global_variables instead.\n",
      "\n",
      "Train on 254 samples, validate on 45 samples\n",
      "Epoch 1/100\n",
      "254/254 [==============================] - 0s 2ms/step - loss: 0.7184 - accuracy: 0.4291 - val_loss: 0.7133 - val_accuracy: 0.3778\n",
      "Epoch 2/100\n",
      "254/254 [==============================] - 0s 169us/step - loss: 0.6981 - accuracy: 0.4724 - val_loss: 0.6866 - val_accuracy: 0.5333\n",
      "Epoch 3/100\n",
      "254/254 [==============================] - 0s 153us/step - loss: 0.6860 - accuracy: 0.5433 - val_loss: 0.6633 - val_accuracy: 0.6222\n",
      "Epoch 4/100\n",
      "254/254 [==============================] - 0s 157us/step - loss: 0.6725 - accuracy: 0.5984 - val_loss: 0.6398 - val_accuracy: 0.7556\n",
      "Epoch 5/100\n",
      "254/254 [==============================] - 0s 185us/step - loss: 0.6665 - accuracy: 0.6181 - val_loss: 0.6183 - val_accuracy: 0.8000\n",
      "Epoch 6/100\n",
      "254/254 [==============================] - 0s 185us/step - loss: 0.6514 - accuracy: 0.6535 - val_loss: 0.5975 - val_accuracy: 0.8000\n",
      "Epoch 7/100\n",
      "254/254 [==============================] - 0s 165us/step - loss: 0.6518 - accuracy: 0.6575 - val_loss: 0.5807 - val_accuracy: 0.8000\n",
      "Epoch 8/100\n",
      "254/254 [==============================] - 0s 181us/step - loss: 0.6430 - accuracy: 0.6535 - val_loss: 0.5641 - val_accuracy: 0.8000\n",
      "Epoch 9/100\n",
      "254/254 [==============================] - 0s 157us/step - loss: 0.6344 - accuracy: 0.6575 - val_loss: 0.5521 - val_accuracy: 0.8000\n",
      "Epoch 10/100\n",
      "254/254 [==============================] - 0s 142us/step - loss: 0.6358 - accuracy: 0.6575 - val_loss: 0.5442 - val_accuracy: 0.8000\n",
      "Epoch 11/100\n",
      "254/254 [==============================] - 0s 165us/step - loss: 0.6350 - accuracy: 0.6299 - val_loss: 0.5325 - val_accuracy: 0.8000\n",
      "Epoch 12/100\n",
      "254/254 [==============================] - 0s 161us/step - loss: 0.6269 - accuracy: 0.6614 - val_loss: 0.5243 - val_accuracy: 0.8000\n",
      "Epoch 13/100\n",
      "254/254 [==============================] - 0s 173us/step - loss: 0.6219 - accuracy: 0.6614 - val_loss: 0.5189 - val_accuracy: 0.8000\n",
      "Epoch 14/100\n",
      "254/254 [==============================] - 0s 169us/step - loss: 0.6215 - accuracy: 0.6378 - val_loss: 0.5117 - val_accuracy: 0.8000\n",
      "Epoch 15/100\n",
      "254/254 [==============================] - 0s 165us/step - loss: 0.6151 - accuracy: 0.6535 - val_loss: 0.5044 - val_accuracy: 0.8000\n",
      "Epoch 16/100\n",
      "254/254 [==============================] - 0s 153us/step - loss: 0.6116 - accuracy: 0.6535 - val_loss: 0.4988 - val_accuracy: 0.8000\n",
      "Epoch 17/100\n",
      "254/254 [==============================] - 0s 177us/step - loss: 0.6184 - accuracy: 0.6614 - val_loss: 0.4934 - val_accuracy: 0.8000\n",
      "Epoch 18/100\n",
      "254/254 [==============================] - 0s 169us/step - loss: 0.5966 - accuracy: 0.6772 - val_loss: 0.4887 - val_accuracy: 0.8000\n",
      "Epoch 19/100\n",
      "254/254 [==============================] - 0s 173us/step - loss: 0.6025 - accuracy: 0.6732 - val_loss: 0.4863 - val_accuracy: 0.8000\n",
      "Epoch 20/100\n",
      "254/254 [==============================] - 0s 169us/step - loss: 0.5978 - accuracy: 0.6732 - val_loss: 0.4811 - val_accuracy: 0.8000\n",
      "Epoch 21/100\n",
      "254/254 [==============================] - 0s 165us/step - loss: 0.5835 - accuracy: 0.6929 - val_loss: 0.4760 - val_accuracy: 0.8000\n",
      "Epoch 22/100\n",
      "254/254 [==============================] - 0s 161us/step - loss: 0.5805 - accuracy: 0.6732 - val_loss: 0.4682 - val_accuracy: 0.8000\n",
      "Epoch 23/100\n",
      "254/254 [==============================] - 0s 212us/step - loss: 0.5882 - accuracy: 0.6732 - val_loss: 0.4640 - val_accuracy: 0.8000\n",
      "Epoch 24/100\n",
      "254/254 [==============================] - 0s 157us/step - loss: 0.5813 - accuracy: 0.7008 - val_loss: 0.4651 - val_accuracy: 0.8000\n",
      "Epoch 25/100\n",
      "254/254 [==============================] - 0s 161us/step - loss: 0.5823 - accuracy: 0.7008 - val_loss: 0.4609 - val_accuracy: 0.7778\n",
      "Epoch 26/100\n",
      "254/254 [==============================] - 0s 169us/step - loss: 0.5784 - accuracy: 0.6929 - val_loss: 0.4555 - val_accuracy: 0.7778\n",
      "Epoch 27/100\n",
      "254/254 [==============================] - 0s 177us/step - loss: 0.5726 - accuracy: 0.7008 - val_loss: 0.4537 - val_accuracy: 0.7778\n",
      "Epoch 28/100\n",
      "254/254 [==============================] - 0s 165us/step - loss: 0.5531 - accuracy: 0.7087 - val_loss: 0.4491 - val_accuracy: 0.7778\n",
      "Epoch 29/100\n",
      "254/254 [==============================] - 0s 181us/step - loss: 0.5704 - accuracy: 0.7205 - val_loss: 0.4439 - val_accuracy: 0.8000\n",
      "Epoch 30/100\n",
      "254/254 [==============================] - 0s 161us/step - loss: 0.5594 - accuracy: 0.7244 - val_loss: 0.4392 - val_accuracy: 0.8222\n",
      "Epoch 31/100\n",
      "254/254 [==============================] - 0s 173us/step - loss: 0.5522 - accuracy: 0.7402 - val_loss: 0.4333 - val_accuracy: 0.8222\n",
      "Epoch 32/100\n",
      "254/254 [==============================] - 0s 185us/step - loss: 0.5551 - accuracy: 0.7283 - val_loss: 0.4327 - val_accuracy: 0.8222\n",
      "Epoch 33/100\n",
      "254/254 [==============================] - 0s 169us/step - loss: 0.5617 - accuracy: 0.7205 - val_loss: 0.4340 - val_accuracy: 0.8444\n",
      "Epoch 34/100\n",
      "254/254 [==============================] - 0s 173us/step - loss: 0.5406 - accuracy: 0.7441 - val_loss: 0.4278 - val_accuracy: 0.8444\n",
      "Epoch 35/100\n",
      "254/254 [==============================] - 0s 181us/step - loss: 0.5356 - accuracy: 0.7205 - val_loss: 0.4209 - val_accuracy: 0.8444\n",
      "Epoch 36/100\n",
      "254/254 [==============================] - 0s 185us/step - loss: 0.5507 - accuracy: 0.7205 - val_loss: 0.4240 - val_accuracy: 0.8444\n",
      "Epoch 37/100\n",
      "254/254 [==============================] - 0s 169us/step - loss: 0.5327 - accuracy: 0.7441 - val_loss: 0.4251 - val_accuracy: 0.8444\n",
      "Epoch 38/100\n",
      "254/254 [==============================] - 0s 181us/step - loss: 0.5297 - accuracy: 0.7283 - val_loss: 0.4208 - val_accuracy: 0.8444\n",
      "Epoch 39/100\n",
      "254/254 [==============================] - 0s 193us/step - loss: 0.5248 - accuracy: 0.7480 - val_loss: 0.4112 - val_accuracy: 0.8444\n",
      "Epoch 40/100\n",
      "254/254 [==============================] - 0s 185us/step - loss: 0.5156 - accuracy: 0.7323 - val_loss: 0.4107 - val_accuracy: 0.8667\n",
      "Epoch 41/100\n",
      "254/254 [==============================] - 0s 142us/step - loss: 0.5180 - accuracy: 0.7520 - val_loss: 0.4095 - val_accuracy: 0.8667\n",
      "Epoch 42/100\n",
      "254/254 [==============================] - 0s 165us/step - loss: 0.5110 - accuracy: 0.7520 - val_loss: 0.4047 - val_accuracy: 0.8667\n",
      "Epoch 43/100\n",
      "254/254 [==============================] - 0s 165us/step - loss: 0.5156 - accuracy: 0.7520 - val_loss: 0.4043 - val_accuracy: 0.8667\n",
      "Epoch 44/100\n",
      "254/254 [==============================] - 0s 161us/step - loss: 0.5151 - accuracy: 0.7362 - val_loss: 0.3948 - val_accuracy: 0.8667\n",
      "Epoch 45/100\n",
      "254/254 [==============================] - 0s 181us/step - loss: 0.4897 - accuracy: 0.7795 - val_loss: 0.3912 - val_accuracy: 0.8667\n",
      "Epoch 46/100\n",
      "254/254 [==============================] - 0s 157us/step - loss: 0.5064 - accuracy: 0.7638 - val_loss: 0.3895 - val_accuracy: 0.8667\n",
      "Epoch 47/100\n",
      "254/254 [==============================] - 0s 173us/step - loss: 0.5048 - accuracy: 0.7559 - val_loss: 0.3940 - val_accuracy: 0.8667\n",
      "Epoch 48/100\n",
      "254/254 [==============================] - 0s 165us/step - loss: 0.4992 - accuracy: 0.7717 - val_loss: 0.3894 - val_accuracy: 0.8667\n",
      "Epoch 49/100\n",
      "254/254 [==============================] - 0s 169us/step - loss: 0.4867 - accuracy: 0.7598 - val_loss: 0.3806 - val_accuracy: 0.8667\n",
      "Epoch 50/100\n",
      "254/254 [==============================] - 0s 177us/step - loss: 0.4990 - accuracy: 0.7598 - val_loss: 0.3757 - val_accuracy: 0.8667\n",
      "Epoch 51/100\n",
      "254/254 [==============================] - 0s 153us/step - loss: 0.4732 - accuracy: 0.7677 - val_loss: 0.3748 - val_accuracy: 0.8667\n",
      "Epoch 52/100\n",
      "254/254 [==============================] - 0s 153us/step - loss: 0.4727 - accuracy: 0.7835 - val_loss: 0.3730 - val_accuracy: 0.8667\n",
      "Epoch 53/100\n",
      "254/254 [==============================] - 0s 146us/step - loss: 0.4651 - accuracy: 0.7992 - val_loss: 0.3734 - val_accuracy: 0.8889\n",
      "Epoch 54/100\n",
      "254/254 [==============================] - 0s 146us/step - loss: 0.4614 - accuracy: 0.7795 - val_loss: 0.3670 - val_accuracy: 0.8889\n",
      "Epoch 55/100\n",
      "254/254 [==============================] - 0s 173us/step - loss: 0.4623 - accuracy: 0.7638 - val_loss: 0.3617 - val_accuracy: 0.8889\n",
      "Epoch 56/100\n",
      "254/254 [==============================] - 0s 165us/step - loss: 0.4552 - accuracy: 0.7913 - val_loss: 0.3597 - val_accuracy: 0.8889\n",
      "Epoch 57/100\n",
      "254/254 [==============================] - 0s 212us/step - loss: 0.4695 - accuracy: 0.7795 - val_loss: 0.3611 - val_accuracy: 0.8889\n",
      "Epoch 58/100\n",
      "254/254 [==============================] - 0s 185us/step - loss: 0.4552 - accuracy: 0.7717 - val_loss: 0.3543 - val_accuracy: 0.8889\n",
      "Epoch 59/100\n",
      "254/254 [==============================] - 0s 165us/step - loss: 0.4650 - accuracy: 0.8071 - val_loss: 0.3559 - val_accuracy: 0.8889\n",
      "Epoch 60/100\n",
      "254/254 [==============================] - 0s 181us/step - loss: 0.4273 - accuracy: 0.8346 - val_loss: 0.3579 - val_accuracy: 0.9111\n",
      "Epoch 61/100\n",
      "254/254 [==============================] - 0s 189us/step - loss: 0.4610 - accuracy: 0.8071 - val_loss: 0.3580 - val_accuracy: 0.9111\n",
      "Epoch 62/100\n",
      "254/254 [==============================] - 0s 173us/step - loss: 0.4634 - accuracy: 0.7717 - val_loss: 0.3472 - val_accuracy: 0.8889\n",
      "Epoch 63/100\n",
      "254/254 [==============================] - 0s 169us/step - loss: 0.4519 - accuracy: 0.7953 - val_loss: 0.3418 - val_accuracy: 0.8889\n",
      "Epoch 64/100\n",
      "254/254 [==============================] - 0s 181us/step - loss: 0.4479 - accuracy: 0.7795 - val_loss: 0.3465 - val_accuracy: 0.9111\n",
      "Epoch 65/100\n",
      "254/254 [==============================] - 0s 177us/step - loss: 0.4577 - accuracy: 0.7835 - val_loss: 0.3517 - val_accuracy: 0.9111\n",
      "Epoch 66/100\n",
      "254/254 [==============================] - 0s 181us/step - loss: 0.4436 - accuracy: 0.7874 - val_loss: 0.3529 - val_accuracy: 0.9333\n",
      "Epoch 67/100\n",
      "254/254 [==============================] - 0s 153us/step - loss: 0.4382 - accuracy: 0.7717 - val_loss: 0.3446 - val_accuracy: 0.9111\n",
      "Epoch 68/100\n",
      "254/254 [==============================] - 0s 150us/step - loss: 0.4267 - accuracy: 0.8150 - val_loss: 0.3427 - val_accuracy: 0.9111\n",
      "Epoch 69/100\n",
      "254/254 [==============================] - 0s 169us/step - loss: 0.4408 - accuracy: 0.8110 - val_loss: 0.3437 - val_accuracy: 0.8889\n",
      "Epoch 70/100\n",
      "254/254 [==============================] - 0s 169us/step - loss: 0.4487 - accuracy: 0.7953 - val_loss: 0.3419 - val_accuracy: 0.8889\n",
      "Epoch 71/100\n",
      "254/254 [==============================] - 0s 153us/step - loss: 0.4356 - accuracy: 0.8150 - val_loss: 0.3340 - val_accuracy: 0.9111\n",
      "Epoch 72/100\n",
      "254/254 [==============================] - 0s 169us/step - loss: 0.4227 - accuracy: 0.8071 - val_loss: 0.3323 - val_accuracy: 0.8889\n",
      "Epoch 73/100\n",
      "254/254 [==============================] - 0s 161us/step - loss: 0.4301 - accuracy: 0.7953 - val_loss: 0.3288 - val_accuracy: 0.9111\n",
      "Epoch 74/100\n",
      "254/254 [==============================] - 0s 169us/step - loss: 0.4379 - accuracy: 0.8031 - val_loss: 0.3383 - val_accuracy: 0.9111\n",
      "Epoch 75/100\n",
      "254/254 [==============================] - 0s 169us/step - loss: 0.4297 - accuracy: 0.8189 - val_loss: 0.3492 - val_accuracy: 0.9111\n",
      "Epoch 76/100\n",
      "254/254 [==============================] - 0s 173us/step - loss: 0.4151 - accuracy: 0.8110 - val_loss: 0.3353 - val_accuracy: 0.8889\n",
      "Epoch 77/100\n",
      "254/254 [==============================] - 0s 212us/step - loss: 0.4299 - accuracy: 0.8150 - val_loss: 0.3249 - val_accuracy: 0.8889\n",
      "Epoch 78/100\n",
      "254/254 [==============================] - 0s 161us/step - loss: 0.4316 - accuracy: 0.7795 - val_loss: 0.3315 - val_accuracy: 0.9111\n",
      "Epoch 79/100\n",
      "254/254 [==============================] - 0s 216us/step - loss: 0.4065 - accuracy: 0.8268 - val_loss: 0.3371 - val_accuracy: 0.9111\n",
      "Epoch 80/100\n",
      "254/254 [==============================] - 0s 177us/step - loss: 0.4334 - accuracy: 0.8071 - val_loss: 0.3257 - val_accuracy: 0.8889\n",
      "Epoch 81/100\n",
      "254/254 [==============================] - 0s 185us/step - loss: 0.4394 - accuracy: 0.8189 - val_loss: 0.3259 - val_accuracy: 0.8889\n",
      "Epoch 82/100\n",
      "254/254 [==============================] - 0s 173us/step - loss: 0.4354 - accuracy: 0.7953 - val_loss: 0.3222 - val_accuracy: 0.8889\n",
      "Epoch 83/100\n",
      "254/254 [==============================] - 0s 216us/step - loss: 0.3953 - accuracy: 0.8228 - val_loss: 0.3279 - val_accuracy: 0.9111\n",
      "Epoch 84/100\n",
      "254/254 [==============================] - 0s 185us/step - loss: 0.4145 - accuracy: 0.8346 - val_loss: 0.3361 - val_accuracy: 0.9333\n",
      "Epoch 85/100\n",
      "254/254 [==============================] - 0s 209us/step - loss: 0.4441 - accuracy: 0.7913 - val_loss: 0.3294 - val_accuracy: 0.9111\n",
      "Epoch 86/100\n",
      "254/254 [==============================] - 0s 189us/step - loss: 0.4220 - accuracy: 0.8189 - val_loss: 0.3257 - val_accuracy: 0.8889\n",
      "Epoch 87/100\n",
      "254/254 [==============================] - 0s 181us/step - loss: 0.4249 - accuracy: 0.8071 - val_loss: 0.3275 - val_accuracy: 0.9111\n",
      "Epoch 88/100\n",
      "254/254 [==============================] - 0s 169us/step - loss: 0.4030 - accuracy: 0.8346 - val_loss: 0.3338 - val_accuracy: 0.9333\n",
      "Epoch 89/100\n",
      "254/254 [==============================] - 0s 216us/step - loss: 0.4091 - accuracy: 0.8346 - val_loss: 0.3309 - val_accuracy: 0.9333\n",
      "Epoch 90/100\n",
      "254/254 [==============================] - 0s 173us/step - loss: 0.4109 - accuracy: 0.8031 - val_loss: 0.3209 - val_accuracy: 0.8889\n",
      "Epoch 91/100\n",
      "254/254 [==============================] - 0s 161us/step - loss: 0.3990 - accuracy: 0.8268 - val_loss: 0.3180 - val_accuracy: 0.8889\n",
      "Epoch 92/100\n",
      "254/254 [==============================] - 0s 181us/step - loss: 0.3891 - accuracy: 0.8268 - val_loss: 0.3200 - val_accuracy: 0.9333\n",
      "Epoch 93/100\n",
      "254/254 [==============================] - 0s 169us/step - loss: 0.3989 - accuracy: 0.7953 - val_loss: 0.3238 - val_accuracy: 0.9333\n",
      "Epoch 94/100\n",
      "254/254 [==============================] - 0s 181us/step - loss: 0.3948 - accuracy: 0.8189 - val_loss: 0.3246 - val_accuracy: 0.9333\n",
      "Epoch 95/100\n",
      "254/254 [==============================] - 0s 193us/step - loss: 0.3904 - accuracy: 0.8189 - val_loss: 0.3165 - val_accuracy: 0.9333\n",
      "Epoch 96/100\n",
      "254/254 [==============================] - 0s 201us/step - loss: 0.3957 - accuracy: 0.8425 - val_loss: 0.3154 - val_accuracy: 0.9333\n",
      "Epoch 97/100\n",
      "254/254 [==============================] - 0s 150us/step - loss: 0.3963 - accuracy: 0.8071 - val_loss: 0.3161 - val_accuracy: 0.9333\n",
      "Epoch 98/100\n",
      "254/254 [==============================] - 0s 130us/step - loss: 0.3968 - accuracy: 0.8228 - val_loss: 0.3177 - val_accuracy: 0.9333\n",
      "Epoch 99/100\n",
      "254/254 [==============================] - 0s 193us/step - loss: 0.4122 - accuracy: 0.8150 - val_loss: 0.3154 - val_accuracy: 0.9333\n",
      "Epoch 100/100\n",
      "254/254 [==============================] - 0s 173us/step - loss: 0.3998 - accuracy: 0.7992 - val_loss: 0.3089 - val_accuracy: 0.9111\n"
     ]
    },
    {
     "data": {
      "text/plain": [
       "<keras.callbacks.callbacks.History at 0x1f93f5c98c8>"
      ]
     },
     "execution_count": 25,
     "metadata": {},
     "output_type": "execute_result"
    }
   ],
   "source": [
    "model2.fit(X2_train,y2_train,batch_size=20,epochs=100,validation_data=(X2_test,y2_test))"
   ]
  },
  {
   "cell_type": "code",
   "execution_count": 26,
   "metadata": {},
   "outputs": [
    {
     "name": "stdout",
     "output_type": "stream",
     "text": [
      "45/45 [==============================] - 0s 111us/step\n"
     ]
    },
    {
     "data": {
      "text/plain": [
       "[0.3089365389611986, 0.9111111164093018]"
      ]
     },
     "execution_count": 26,
     "metadata": {},
     "output_type": "execute_result"
    }
   ],
   "source": [
    "model2.evaluate(X2_test,y2_test)"
   ]
  },
  {
   "cell_type": "code",
   "execution_count": 27,
   "metadata": {},
   "outputs": [
    {
     "data": {
      "image/png": "[encoded data removed]",
      "text/plain": [
       "<Figure size 432x288 with 1 Axes>"
      ]
     },
     "metadata": {
      "needs_background": "light"
     },
     "output_type": "display_data"
    }
   ],
   "source": [
    "plt.plot(model2.history.history['loss'])\n",
    "plt.plot(model2.history.history['val_loss'])\n",
    "plt.title('Model loss')\n",
    "plt.ylabel('Loss')\n",
    "plt.xlabel('Epoch')\n",
    "plt.legend(['Train', 'Val'], loc='upper right')\n",
    "plt.show()"
   ]
  }
 ],
 "metadata": {
  "kernelspec": {
   "display_name": "Python 3",
   "language": "python",
   "name": "python3"
  },
  "language_info": {
   "codemirror_mode": {
    "name": "ipython",
    "version": 3
   },
   "file_extension": ".py",
   "mimetype": "text/x-python",
   "name": "python",
   "nbconvert_exporter": "python",
   "pygments_lexer": "ipython3",
   "version": "3.7.6"
  }
 },
 "nbformat": 4,
 "nbformat_minor": 4
}
